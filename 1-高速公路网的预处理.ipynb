{
 "cells": [
  {
   "cell_type": "code",
   "execution_count": null,
   "metadata": {},
   "outputs": [],
   "source": [
    "import pandas as pd\n",
    "import numpy as np\n",
    "import geopandas as gpd\n",
    "import transbigdata as tbd\n",
    "import warnings\n",
    "warnings.filterwarnings('ignore')"
   ]
  },
  {
   "cell_type": "markdown",
   "metadata": {},
   "source": [
    "# 高速公路网的预处理"
   ]
  },
  {
   "cell_type": "code",
   "execution_count": null,
   "metadata": {},
   "outputs": [],
   "source": [
    "data = gpd.read_file(r'gis/广东省高速公路_简化.json')\n",
    "# 提取简化高速公路边信息\n",
    "edge = data[['geometry']]\n",
    "edge['edge_id'] = range(len(edge))\n",
    "\n",
    "# 生成反向边信息\n",
    "edge_inverse = edge.copy()\n",
    "from shapely.geometry import LineString\n",
    "edge_inverse['geometry'] = edge_inverse['geometry'].apply(lambda x:LineString(list(x.coords)[::-1]))\n",
    "edge_inverse['edge_id'] +=len(edge)\n",
    "\n",
    "# 合并正反向边信息\n",
    "edge = pd.concat([edge,edge_inverse])"
   ]
  },
  {
   "cell_type": "code",
   "execution_count": null,
   "metadata": {},
   "outputs": [],
   "source": [
    "# 收费站、服务区的额外节点加入\n",
    "station = gpd.read_file(r'gis/收费站测试/收费站.shp')\n",
    "station['id'] = range(len(station))\n",
    "# 投影、偏移、匹配至最近的边\n",
    "dist = 50\n",
    "# 偏移100米的边\n",
    "edge_offset = edge.copy()\n",
    "edge_offset.crs = 'EPSG:4326'\n",
    "edge_offset_proj = edge_offset.to_crs('EPSG:4525') #CGCS2000 / 3-degree Gauss Kruger zone 37\n",
    "edge_offset_proj['geometry'] = edge_offset_proj['geometry'].apply(lambda x:x.parallel_offset(dist))\n",
    "edge_offset_proj = edge_offset_proj.reset_index(drop=True)\n",
    "\n",
    "station.crs = 'EPSG:4326'\n",
    "station_proj = station.to_crs('EPSG:4525')\n",
    "\n",
    "station_proj_match = tbd.ckdnearest_line(station_proj,edge_offset_proj[-edge_offset_proj['geometry'].is_empty][['edge_id','geometry']])\n",
    "matched_table = station_proj_match[['id','edge_id']]\n"
   ]
  },
  {
   "cell_type": "code",
   "execution_count": null,
   "metadata": {},
   "outputs": [],
   "source": [
    "# 基于额外节点调整网络\n",
    "for i in range(len(matched_table)):\n",
    "    r = matched_table.iloc[i]\n",
    "    nodeid = r['id']\n",
    "    edgeid = r['edge_id']\n",
    "    nodegeometry = station[station['id']==nodeid]['geometry'].iloc[0]\n",
    "    edgegeometry = edge[edge['edge_id']==edgeid]['geometry'].iloc[0]\n",
    "\n",
    "    #找到edge上距离node最近的点\n",
    "    projectdist = edgegeometry.project(nodegeometry)\n",
    "    projectpoint = edgegeometry.interpolate(projectdist)\n",
    "\n",
    "    #如果在两端，则不需要切分\n",
    "    #增加端点到节点的线段\n",
    "    add_edges = []\n",
    "    if (projectdist==edgegeometry.length)|(projectdist==0):\n",
    "        line3 = LineString([nodegeometry,projectpoint])\n",
    "        line4 = LineString([projectpoint,nodegeometry])\n",
    "        add_edges.append(line3)\n",
    "        add_edges.append(line4)\n",
    "    else: #如果在中间，则需要切分，将原始边切分为两段，再加上端点到节点的线段\n",
    "        from shapely.geometry import Point\n",
    "        edge_coords = pd.DataFrame(edgegeometry.coords)\n",
    "        edge_coords['proj'] = edge_coords.apply(lambda r:edgegeometry.project(Point([r[0],r[1]])),axis = 1)\n",
    "        # 由中间端点切分边为两段\n",
    "        line1 = LineString(edge_coords[edge_coords['proj']<projectdist][[0,1]].apply(lambda r:Point([r[0],r[1]]),axis = 1).tolist()+[projectpoint])\n",
    "        line2 = LineString([projectpoint] + edge_coords[edge_coords['proj']>projectdist][[0,1]].apply(lambda r:Point([r[0],r[1]]),axis = 1).tolist())\n",
    "        # 添加中间端点到收费站的线段\n",
    "        line3 = LineString([nodegeometry,projectpoint])\n",
    "        line4 = LineString([projectpoint,nodegeometry])\n",
    "        add_edges.append(line1)\n",
    "        add_edges.append(line2)\n",
    "        add_edges.append(line3)\n",
    "        add_edges.append(line4)\n",
    "        # 此时需要删除原有的边\n",
    "        #edge = edge[edge['edge_id']!=edgeid]\n",
    "\n",
    "    # 将新的边加入\n",
    "    add_edges = gpd.GeoDataFrame(geometry=add_edges)\n",
    "    edge = pd.concat([edge,add_edges])\n",
    "    # 重新生成边的id\n",
    "    edge['edge_id'] = range(len(edge))"
   ]
  },
  {
   "cell_type": "code",
   "execution_count": null,
   "metadata": {},
   "outputs": [],
   "source": [
    "# 构建节点表\n",
    "edge['slon'] = edge['geometry'].apply(lambda r:r.coords[0][0])\n",
    "edge['slat'] = edge['geometry'].apply(lambda r:r.coords[0][1])\n",
    "edge['elon'] = edge['geometry'].apply(lambda r:r.coords[-1][0])\n",
    "edge['elat'] = edge['geometry'].apply(lambda r:r.coords[-1][1])\n",
    "\n",
    "# 提取简化高速公路节点信息\n",
    "node = pd.concat([edge[['slon','slat']].rename(columns = {'slon':'lon','slat':'lat'}),\n",
    "                  edge[['elon','elat']].rename(columns = {'elon':'lon','elat':'lat'})]).drop_duplicates()\n",
    "node['geometry'] = gpd.points_from_xy(node['lon'],node['lat'])\n",
    "node['id'] = range(len(node)) \n",
    "\n",
    "# 生成收费站节点对应网络节点的编号\n",
    "station2node = tbd.ckdnearest_point(station,node)[['id_x','id_y']].rename(columns = {'id_x':'station_id','id_y':'node_id'})\n",
    "\n",
    "# 为边添加起终点接节点信息\n",
    "## 添加起点信息\n",
    "node_tmp = node[['lon','lat','id']]\n",
    "node_tmp.columns = ['slon','slat','u']\n",
    "edge = pd.merge(edge,node_tmp,on = ['slon','slat'],how = 'left')\n",
    "## 添加终点信息\n",
    "node_tmp = node[['lon','lat','id']]\n",
    "node_tmp.columns = ['elon','elat','v']\n",
    "edge = pd.merge(edge,node_tmp,on = ['elon','elat'],how = 'left')"
   ]
  },
  {
   "cell_type": "code",
   "execution_count": null,
   "metadata": {},
   "outputs": [],
   "source": [
    "# 高速公路边向右平移一定距离形成面\n",
    "def generate_plane(edge,dist = 100):\n",
    "    '''\n",
    "    高速公路边向右平移一定距离形成面\n",
    "\n",
    "    '''\n",
    "    ## 转换为投影坐标系\n",
    "    edge.crs = 'EPSG:4326'\n",
    "    edge['length'] = edge.to_crs('EPSG:4525').length\n",
    "    edge_plane = edge.to_crs('EPSG:4525') #CGCS2000 / 3-degree Gauss Kruger zone 37\n",
    "    edge['length'] = edge_plane['geometry'].length\n",
    "\n",
    "    ## 生成单方向偏移\n",
    "    from shapely.geometry import Polygon\n",
    "    edge_plane['geometry'] = edge_plane['geometry'].apply(lambda x:Polygon(list(x.coords)+list(x.parallel_offset(dist).coords)))\n",
    "    edge_plane = edge_plane.to_crs('EPSG:4326')\n",
    "    return edge_plane\n",
    "\n",
    "edge_plane = generate_plane(edge,dist = 100)"
   ]
  },
  {
   "cell_type": "code",
   "execution_count": null,
   "metadata": {},
   "outputs": [],
   "source": [
    "#存储边、面与节点信息\n",
    "edge.to_file(r'拓扑网络/广东省高速公路_简化_边.json',driver = 'GeoJSON')\n",
    "edge_plane.to_file(r'拓扑网络/广东省高速公路_简化_面.json',driver = 'GeoJSON')\n",
    "node = gpd.GeoDataFrame(node)\n",
    "node.to_file(r'拓扑网络/广东省高速公路_简化_节点.json',driver = 'GeoJSON')\n",
    "station2node.to_csv(r'拓扑网络/收费站节点对应网络节点的编号.csv',index = None)"
   ]
  },
  {
   "cell_type": "markdown",
   "metadata": {},
   "source": [
    "# 高速公路网络建模"
   ]
  },
  {
   "cell_type": "markdown",
   "metadata": {},
   "source": [
    "## 网络构建"
   ]
  },
  {
   "cell_type": "code",
   "execution_count": null,
   "metadata": {},
   "outputs": [],
   "source": [
    "import pandas as pd\n",
    "import numpy as np\n",
    "import geopandas as gpd\n",
    "import transbigdata as tbd\n",
    "import warnings\n",
    "warnings.filterwarnings('ignore')"
   ]
  },
  {
   "cell_type": "code",
   "execution_count": null,
   "metadata": {},
   "outputs": [],
   "source": [
    "#存储边、面与节点信息\n",
    "edge = gpd.read_file(r'拓扑网络/广东省高速公路_简化_边.json')\n",
    "edge_plane = gpd.read_file(r'拓扑网络/广东省高速公路_简化_面.json')\n",
    "node = gpd.read_file(r'拓扑网络/广东省高速公路_简化_节点.json')\n",
    "station2node = pd.read_csv(r'拓扑网络/收费站节点对应网络节点的编号.csv')\n",
    "# 将station2node转换为字典\n",
    "station2node_dict = station2node.set_index('station_id')['node_id'].to_dict()\n"
   ]
  },
  {
   "cell_type": "code",
   "execution_count": null,
   "metadata": {},
   "outputs": [],
   "source": [
    "#提取边与节点信息，构建网络\n",
    "G_edges = edge[['u','v','length']].values.tolist()\n",
    "G_nodes = list(node['id'])\n",
    "\n",
    "import networkx as nx\n",
    "#先创建一个有向图\n",
    "G = nx.DiGraph()\n",
    "#添加节点\n",
    "G.add_nodes_from(G_nodes) \n",
    "#添加边\n",
    "G.add_weighted_edges_from(G_edges)"
   ]
  },
  {
   "cell_type": "markdown",
   "metadata": {},
   "source": [
    "## OD出行路径信息提取"
   ]
  },
  {
   "cell_type": "code",
   "execution_count": null,
   "metadata": {},
   "outputs": [],
   "source": [
    "## OD表构建\n",
    "o = station2node[['station_id']]\n",
    "o['flag'] = 1\n",
    "d = o.copy()\n",
    "od = pd.merge(o,d,on = 'flag')[['station_id_x','station_id_y']]\n",
    "od = od[od['station_id_x']!=od['station_id_y']]"
   ]
  },
  {
   "cell_type": "code",
   "execution_count": null,
   "metadata": {},
   "outputs": [],
   "source": [
    "# 获取出行路径\n",
    "def getshortestpath(r):\n",
    "    # 获取出行路径\n",
    "    start_node = station2node_dict[r['station_id_x']]\n",
    "    end_node = station2node_dict[r['station_id_y']]\n",
    "    shortest_path = nx.shortest_path(G, source=start_node, target=end_node)\n",
    "    return list(map(int,shortest_path))# 转为整型\n",
    "\n",
    "# 获取OD的出行路径\n",
    "od['path'] = od.apply(lambda r:getshortestpath(r),axis = 1)\n",
    "# 对OD编号\n",
    "od['odid'] = range(len(od))\n",
    "od.to_csv(r'拓扑网络/OD路径表.csv',index = None)"
   ]
  },
  {
   "cell_type": "code",
   "execution_count": null,
   "metadata": {},
   "outputs": [],
   "source": [
    "od = pd.read_csv(r'拓扑网络/OD路径表.csv')"
   ]
  },
  {
   "cell_type": "markdown",
   "metadata": {},
   "source": [
    "## OD所经过的路段信息提取"
   ]
  },
  {
   "cell_type": "code",
   "execution_count": null,
   "metadata": {},
   "outputs": [],
   "source": [
    "def get_path_gdf(shortest_path,edge):\n",
    "    '''\n",
    "    从点序列中获取出行路段\n",
    "    '''\n",
    "    path = pd.DataFrame(shortest_path,columns=['u'])\n",
    "    path['u'] = path['u'].astype(int)\n",
    "    path['v'] = path['u'].shift(-1).fillna(0).astype(int)\n",
    "    path = path.iloc[:-1]\n",
    "    path = gpd.GeoDataFrame(path)\n",
    "    path = pd.merge(path,edge)\n",
    "    path['cumsumlength'] = path['length'].cumsum()\n",
    "    return path\n",
    "#path = get_path_gdf(shortest_path,edge)\n",
    "def get_path_dis_table(r,edge):\n",
    "    '''\n",
    "    获取OD所经过的路段信息\n",
    "    '''\n",
    "    shortest_path = list(map(int,r['path'][1:-1].split(',')))\n",
    "    path = get_path_gdf(shortest_path,edge)\n",
    "    path = path[['edge_id','cumsumlength']]\n",
    "    path['station_id_x'] = r['station_id_x']\n",
    "    path['station_id_y'] = r['station_id_y']\n",
    "    return path\n",
    "\n",
    "#获取OD所经过的路段信息\n",
    "\n",
    "od_dis_table = od.groupby('odid').apply(lambda r:get_path_dis_table(r.iloc[0],edge)).reset_index()[['station_id_x','station_id_y','edge_id','cumsumlength']]\n",
    "\n",
    "# od_dis_table存储了每个OD对应的路段信息\n",
    "# 其中，station_id_x、station_id_y为OD的起点、终点\n",
    "# edge_id为经过路段的id，cumsumlength为经过路段的累计长度\n",
    "# 例如，station_id_x=0，station_id_y=1，edge_id=47784，cumsumlength=68.596574，表示OD为0-1的出行路径，需要经过id为47784的路段，路径走完这一路段时，所经过的长度为68.596574米\n",
    "od_dis_table.to_csv(r'拓扑网络/OD路段信息表.csv',index = None)"
   ]
  },
  {
   "cell_type": "code",
   "execution_count": null,
   "metadata": {},
   "outputs": [],
   "source": [
    "start_coords = list(node[node['id'] == start_node][['lon','lat']].iloc[0])[::-1]\n",
    "end_coords = list(node[node['id'] == end_node][['lon','lat']].iloc[0])[::-1]\n",
    "\n",
    "import folium\n",
    "from folium import GeoJson\n",
    "\n",
    "m = folium.Map(location=[23.130196,113.259294],zoom_start=10, tiles=\"CartoDB Positron\")\n",
    "\n",
    "# 定义样式函数\n",
    "def style_function_gray(feature):\n",
    "    return {\n",
    "        'fillColor': '#888',\n",
    "        'color': '#888',\n",
    "        'weight': 1,\n",
    "        'fillOpacity': 0.5\n",
    "    }\n",
    "def style_function_red(feature):\n",
    "    return {\n",
    "        'fillColor': 'red',\n",
    "        'color': 'red',\n",
    "        'weight': 1,\n",
    "        'fillOpacity': 0.5\n",
    "    }\n",
    "\n",
    "GeoJson(edge_plane.to_json(), style_function=style_function_gray).add_to(m)\n",
    "\n",
    "# 创建GeoJson对象，并使用样式函数\n",
    "geojson = GeoJson(path.to_json(), style_function=style_function_red)\n",
    "\n",
    "geojson.add_to(m)\n",
    "\n",
    "\n",
    "# 在地图上添加起点和终点标记\n",
    "folium.Marker(start_coords, tooltip=\"Start Point\", icon=folium.Icon(color=\"green\", icon=\"play\")).add_to(m)\n",
    "folium.Marker(end_coords, tooltip=\"End Point\", icon=folium.Icon(color=\"red\", icon=\"stop\")).add_to(m)\n",
    "\n",
    "\n",
    "m\n"
   ]
  },
  {
   "cell_type": "code",
   "execution_count": null,
   "metadata": {},
   "outputs": [],
   "source": [
    "# OD对应的出行路径\n",
    "# 生成OD矩阵"
   ]
  }
 ],
 "metadata": {
  "kernelspec": {
   "display_name": "py38_native",
   "language": "python",
   "name": "python3"
  },
  "language_info": {
   "codemirror_mode": {
    "name": "ipython",
    "version": 3
   },
   "file_extension": ".py",
   "mimetype": "text/x-python",
   "name": "python",
   "nbconvert_exporter": "python",
   "pygments_lexer": "ipython3",
   "version": "3.8.13"
  },
  "orig_nbformat": 4
 },
 "nbformat": 4,
 "nbformat_minor": 2
}
